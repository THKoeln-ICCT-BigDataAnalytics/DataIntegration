{
 "cells": [
  {
   "cell_type": "code",
   "execution_count": 1,
   "id": "02683508",
   "metadata": {},
   "outputs": [],
   "source": [
    "import sys\n",
    "# a) SchemasToGraph\n",
    "import pandas as pd\n",
    "import numpy as np\n",
    "import matplotlib.pyplot as plt\n",
    "import itertools\n",
    "import os\n",
    "import time\n",
    "import ast\n",
    "# b.1) SignatureEncoding\n",
    "from sentence_transformers import SentenceTransformer, util\n",
    "# b.2) LinkabilityAssessor\n",
    "from sklearn.metrics import mean_squared_error\n",
    "import sklearn\n",
    "import sklearn.decomposition\n",
    "# c) LinkabilityCorrelator\n",
    "# d) SemanticMatcher\n",
    "from itertools import product"
   ]
  },
  {
   "cell_type": "code",
   "execution_count": 2,
   "id": "c58e7de2",
   "metadata": {},
   "outputs": [],
   "source": [
    "\n",
    "class Entity: #could be table or column\n",
    "    def __init__(\n",
    "        self, id, name, type, schema, parent_id, datatype=None, constraints=None, text_sequence=None\n",
    "    ):\n",
    "        self.id = id\n",
    "        self.name = name\n",
    "        self.type = type\n",
    "        self.schema = schema\n",
    "        self.parent_id = parent_id\n",
    "        self.datatype = datatype\n",
    "        self.constraints = constraints\n",
    "        self.text_sequence = text_sequence\n",
    "        \n",
    "    def __repr__(self):\n",
    "        return (f\"Entity({self.id}, {self.datatype}, {self.schema}, {self.parent_id}\")\n",
    "    def get_text_sequence(self):\n",
    "        return self.text_sequence\n",
    "    def get_instance_sequence(self):\n",
    "        return self.instance_sequence"
   ]
  },
  {
   "cell_type": "code",
   "execution_count": 3,
   "id": "2689e357",
   "metadata": {},
   "outputs": [],
   "source": [
    "def encode_signatures_from_df(df_graph, model_name='sentence-transformers/all-mpnet-base-v2', serialization=\"text_sequence\", instance_serialization=\"instance_sequence\"):\n",
    "    entities = []\n",
    "    model = SentenceTransformer(model_name)\n",
    "\n",
    "    df_graph = df_graph[df_graph.type != \"schema\"].reset_index(drop=True)\n",
    "        \n",
    "    st = time.time()\n",
    "    df_graph[serialization] = df_graph[serialization].astype(str) \n",
    "    text_sequence = model.encode(df_graph[serialization].values)\n",
    "\n",
    "    if instance_serialization:\n",
    "        df_graph[instance_serialization] = df_graph[instance_serialization].astype(str) \n",
    "        instance_sequence = model.encode(df_graph[instance_serialization].values)\n",
    "        text_sequence = np.concatenate((text_sequence, instance_sequence), axis=1)\n",
    "    et = time.time()\n",
    "    \n",
    "    print(\"Elapsed time for encoding signatures:\" + str(et - st))\n",
    "\n",
    "    for index, row in df_graph.reset_index(drop=True).iterrows():\n",
    "        entity = Entity(\n",
    "            id=row[\"id\"],\n",
    "            name= row[\"name\"],\n",
    "            type=row[\"type\"],\n",
    "            datatype=row[\"datatype\"],\n",
    "            schema=row[\"schema\"],\n",
    "            parent_id=row[\"parent_id\"],\n",
    "            text_sequence=text_sequence[index]\n",
    "            )\n",
    "        entities.append(entity)\n",
    "\n",
    "    return entities;"
   ]
  },
  {
   "cell_type": "code",
   "execution_count": 9,
   "id": "b89198a7",
   "metadata": {},
   "outputs": [
    {
     "name": "stdout",
     "output_type": "stream",
     "text": [
      "Schema Graph Metadata:\n",
      "# Schemas: 4\n",
      "# Tables: 34\n",
      "# Attributes: 253\n"
     ]
    }
   ],
   "source": [
    "df_graph = pd.read_csv(\"C:/Users/leona/Desktop/schemas/schema_graph.csv\")\n",
    "print(\"Schema Graph Metadata:\")\n",
    "print(\"# Schemas: \"+ str(len(df_graph[df_graph.type==\"schema\"])))\n",
    "print(\"# Tables: \"+ str(len(df_graph[df_graph.type==\"table\"])))\n",
    "print(\"# Attributes: \"+ str(len(df_graph[df_graph.type==\"attribute\"])))\n",
    "    \n"
   ]
  },
  {
   "cell_type": "code",
   "execution_count": 11,
   "id": "4de21373",
   "metadata": {},
   "outputs": [
    {
     "name": "stdout",
     "output_type": "stream",
     "text": [
      "Elapsed time for encoding signatures:6.539335012435913\n"
     ]
    }
   ],
   "source": [
    "\n",
    "df_graph['text_sequence'] = df_graph['text_sequence'].astype(str)\n",
    "entities = encode_signatures_from_df(df_graph, serialization=\"text_sequence\", instance_serialization=None)"
   ]
  },
  {
   "cell_type": "code",
   "execution_count": null,
   "id": "6428e8f8",
   "metadata": {},
   "outputs": [],
   "source": []
  }
 ],
 "metadata": {
  "kernelspec": {
   "display_name": "Python 3",
   "language": "python",
   "name": "python3"
  },
  "language_info": {
   "codemirror_mode": {
    "name": "ipython",
    "version": 3
   },
   "file_extension": ".py",
   "mimetype": "text/x-python",
   "name": "python",
   "nbconvert_exporter": "python",
   "pygments_lexer": "ipython3",
   "version": "3.13.7"
  }
 },
 "nbformat": 4,
 "nbformat_minor": 5
}
